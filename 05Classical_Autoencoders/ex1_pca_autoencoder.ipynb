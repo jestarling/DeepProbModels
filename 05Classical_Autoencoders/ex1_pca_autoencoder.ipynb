{
 "cells": [
  {
   "cell_type": "code",
   "execution_count": 28,
   "metadata": {
    "collapsed": false
   },
   "outputs": [],
   "source": [
    "# Import Libraries\n",
    "import tensorflow as tf\n",
    "import numpy as np\n",
    "import matplotlib.pyplot as plt\n",
    "\n",
    "# Load Example Data: IRIS\n",
    "from sklearn.datasets import load_iris\n",
    "from sklearn import preprocessing\n",
    "iris = load_iris()\n",
    "X = preprocessing.scale(iris.data).astype(np.float32)"
   ]
  },
  {
   "cell_type": "code",
   "execution_count": 34,
   "metadata": {
    "collapsed": false
   },
   "outputs": [],
   "source": [
    "# Network Parameters\n",
    "num_input = 4 # Original number of variables\n",
    "num_hidden = 2 # Encoding variables\n",
    "\n",
    "# Training Parameters\n",
    "learning_rate = 0.01\n",
    "num_steps = 1000\n",
    "\n",
    "# Define graph variables with initial values\n",
    "W = tf.Variable(tf.random_normal([num_input, num_hidden]))\n",
    "X_hash = tf.matmul(X, W)\n",
    "X_hat = tf.matmul(X_hash, tf.transpose(W))\n",
    "\n",
    "# Define loss and optimizer\n",
    "loss = tf.reduce_mean(tf.pow(X - X_hat, 2))\n",
    "optimizer = tf.train.RMSPropOptimizer(learning_rate).minimize(loss)"
   ]
  },
  {
   "cell_type": "code",
   "execution_count": 35,
   "metadata": {
    "collapsed": true
   },
   "outputs": [],
   "source": [
    "# Initialize session\n",
    "init = tf.global_variables_initializer()\n",
    "sess = tf.Session()\n",
    "sess.run(init)"
   ]
  },
  {
   "cell_type": "code",
   "execution_count": 130,
   "metadata": {
    "collapsed": false,
    "scrolled": false
   },
   "outputs": [
    {
     "data": {
      "image/png": "[encoded data removed]",
      "text/plain": [
       "<matplotlib.figure.Figure at 0x127d60fe400>"
      ]
     },
     "metadata": {},
     "output_type": "display_data"
    }
   ],
   "source": [
    "# How does the hash look like.\n",
    "plt.scatter(X_hash_out[:, 0], \n",
    "            X_hash_out[:, 1], \n",
    "            c = iris.target)\n",
    "plt.show()"
   ]
  },
  {
   "cell_type": "code",
   "execution_count": 37,
   "metadata": {
    "collapsed": false
   },
   "outputs": [
    {
     "name": "stdout",
     "output_type": "stream",
     "text": [
      "Step 1: Loss: 0.042519\n",
      "Step 100: Loss: 0.042519\n",
      "Step 200: Loss: 0.042519\n",
      "Step 300: Loss: 0.042519\n",
      "Step 400: Loss: 0.042519\n",
      "Step 500: Loss: 0.042519\n",
      "Step 600: Loss: 0.042519\n",
      "Step 700: Loss: 0.042519\n",
      "Step 800: Loss: 0.042519\n",
      "Step 900: Loss: 0.042519\n",
      "Step 1000: Loss: 0.042519\n"
     ]
    }
   ],
   "source": [
    "# Printing parameters\n",
    "print_every = 100\n",
    "\n",
    "# Training\n",
    "for i in range(1, num_steps + 1):  \n",
    "    # Run one pass of the optimizer\n",
    "    X_hash_out, loss_out = sess.run([X_hash, loss]) \n",
    "    # Display logs per step\n",
    "    if i % print_every == 0 or i == 1:\n",
    "        print('Step %i: Loss: %f' % (i, loss_out))"
   ]
  },
  {
   "cell_type": "code",
   "execution_count": null,
   "metadata": {
    "collapsed": true
   },
   "outputs": [],
   "source": [
    "sess.close()"
   ]
  }
 ],
 "metadata": {
  "kernelspec": {
   "display_name": "Python 3",
   "language": "python",
   "name": "python3"
  },
  "language_info": {
   "codemirror_mode": {
    "name": "ipython",
    "version": 3
   },
   "file_extension": ".py",
   "mimetype": "text/x-python",
   "name": "python",
   "nbconvert_exporter": "python",
   "pygments_lexer": "ipython3",
   "version": "3.6.0"
  }
 },
 "nbformat": 4,
 "nbformat_minor": 2
}
