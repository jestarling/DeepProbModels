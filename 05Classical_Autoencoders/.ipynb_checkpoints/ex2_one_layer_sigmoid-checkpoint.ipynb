{
 "cells": [
  {
   "cell_type": "code",
   "execution_count": 1,
   "metadata": {},
   "outputs": [
    {
     "name": "stdout",
     "output_type": "stream",
     "text": [
      "Successfully downloaded train-images-idx3-ubyte.gz 9912422 bytes.\n",
      "Extracting /tmp/data/train-images-idx3-ubyte.gz\n",
      "Successfully downloaded train-labels-idx1-ubyte.gz 28881 bytes.\n",
      "Extracting /tmp/data/train-labels-idx1-ubyte.gz\n",
      "Successfully downloaded t10k-images-idx3-ubyte.gz 1648877 bytes.\n",
      "Extracting /tmp/data/t10k-images-idx3-ubyte.gz\n",
      "Successfully downloaded t10k-labels-idx1-ubyte.gz 4542 bytes.\n",
      "Extracting /tmp/data/t10k-labels-idx1-ubyte.gz\n"
     ]
    }
   ],
   "source": [
    "# Import Libraries\n",
    "import tensorflow as tf\n",
    "import numpy as np\n",
    "import matplotlib.pyplot as plt\n",
    "\n",
    "# Load Example Data: MNIST\n",
    "from tensorflow.examples.tutorials.mnist import input_data\n",
    "mnist = input_data.read_data_sets(\"/tmp/data/\", one_hot=True)"
   ]
  },
  {
   "cell_type": "code",
   "execution_count": 2,
   "metadata": {},
   "outputs": [],
   "source": [
    "# Network Parameters\n",
    "num_input =  784 # MNIST images are 28px*28px\n",
    "num_hidden = 64 # Encoding variables\n",
    "\n",
    "# Training Parameters\n",
    "batch_size = 256 # MNIST images mut be loaded in batches\n",
    "learning_rate = 0.01\n",
    "num_steps = 10000\n",
    "\n",
    "# Printing parameters\n",
    "print_every = 1000\n",
    "\n",
    "# Data, we will load batches of images and store them here\n",
    "X = tf.placeholder(\"float\", [None, num_input])\n",
    "\n",
    "# Parameters of the model\n",
    "Weight = tf.Variable(tf.random_normal([num_input, num_hidden]))\n",
    "bias_encode = tf.Variable(tf.random_normal([num_hidden]))\n",
    "bias_decode = tf.Variable(tf.random_normal([num_input]))\n",
    "\n",
    "# Hash and predicting\n",
    "X_hash = tf.sigmoid(tf.add(tf.matmul(X, Weight), bias_encode))\n",
    "X_hat = tf.sigmoid(tf.add(tf.matmul(X_hash, tf.transpose(Weight)), bias_decode))\n",
    "\n",
    "# Define loss and optimizer\n",
    "loss = tf.reduce_mean(tf.pow(X - X_hat, 2))\n",
    "optimizer = tf.train.RMSPropOptimizer(learning_rate).minimize(loss)"
   ]
  },
  {
   "cell_type": "code",
   "execution_count": 3,
   "metadata": {
    "collapsed": true
   },
   "outputs": [],
   "source": [
    "# Initialize session\n",
    "init = tf.global_variables_initializer()\n",
    "sess = tf.Session()\n",
    "sess.run(init)"
   ]
  },
  {
   "cell_type": "code",
   "execution_count": 4,
   "metadata": {
    "scrolled": true
   },
   "outputs": [
    {
     "name": "stdout",
     "output_type": "stream",
     "text": [
      "Step 1: Batch Loss: 0.397745\n",
      "Step 2000: Batch Loss: 0.022493\n",
      "Step 4000: Batch Loss: 0.018666\n",
      "Step 6000: Batch Loss: 0.016629\n",
      "Step 8000: Batch Loss: 0.016216\n",
      "Step 10000: Batch Loss: 0.016034\n",
      "Step 12000: Batch Loss: 0.016025\n",
      "Step 14000: Batch Loss: 0.015327\n",
      "Step 16000: Batch Loss: 0.013927\n",
      "Step 18000: Batch Loss: 0.015238\n",
      "Step 20000: Batch Loss: 0.014515\n"
     ]
    }
   ],
   "source": [
    "# Training\n",
    "for i in range(1, num_steps + 1):\n",
    "    # Get the next batch of images\n",
    "    Xbatch, _ = mnist.train.next_batch(batch_size)   \n",
    "    # Run one pass of the optimizer\n",
    "    _, loss_out = sess.run([optimizer, loss], feed_dict={X: Xbatch})   \n",
    "    # Display logs per step\n",
    "    if i % print_every == 0 or i == 1:\n",
    "        print('Step %i: Batch Loss: %f' % (i, loss_out))"
   ]
  },
  {
   "cell_type": "code",
   "execution_count": 69,
   "metadata": {},
   "outputs": [],
   "source": [
    "def test_with_noise(n, noise):    \n",
    "    # MNIST test set with noise added\n",
    "    Xbatch, _ = mnist.test.next_batch(n)\n",
    "    Xbatch += np.random.normal(loc = 0.0, scale = noise, size = num_input) \n",
    "\n",
    "    # Encode and decode the digit image\n",
    "    Xbatch_hash, Xbatch_hat = sess.run([X_hash, X_hat], feed_dict={X: Xbatch})\n",
    "\n",
    "    # Create canvas for plotting\n",
    "    canvas_orig = np.empty((28, 28 * n))\n",
    "    canvas_recon = np.empty((28, 28 * n))\n",
    "    canvas_hash = np.empty((8, 8 * n))\n",
    "    \n",
    "    # Display original images\n",
    "    for j in range(n):\n",
    "        # Original images\n",
    "        canvas_orig[:, (j * 28):((j + 1) * 28)] = Xbatch[j].reshape([28, 28])\n",
    "        # Reconstruction\n",
    "        canvas_recon[:, (j * 28):((j + 1) * 28)] = Xbatch_hat[j].reshape([28, 28])\n",
    "        # Hash codes\n",
    "        canvas_hash[:, (j * 8):((j + 1) * 8)] = Xbatch_hash[j].reshape([8, 8])\n",
    "    \n",
    "    print(\"Original Images\")\n",
    "    plt.imshow(canvas_orig, origin=\"upper\", cmap=\"gray\")\n",
    "    plt.show()\n",
    "    print(\"Reconstructed Images\")\n",
    "    plt.imshow(canvas_recon, origin=\"upper\", cmap=\"gray\")\n",
    "    plt.show()\n",
    "    print(\"Encodings\")\n",
    "    plt.imshow(canvas_hash, origin=\"upper\", cmap=\"gray\")\n",
    "    plt.show()   "
   ]
  },
  {
   "cell_type": "code",
   "execution_count": 70,
   "metadata": {},
   "outputs": [
    {
     "name": "stdout",
     "output_type": "stream",
     "text": [
      "Original Images\n"
     ]
    },
    {
     "data": {
      "image/png": "[encoded data removed]",
      "text/plain": [
       "<matplotlib.figure.Figure at 0x26011b82358>"
      ]
     },
     "metadata": {},
     "output_type": "display_data"
    },
    {
     "name": "stdout",
     "output_type": "stream",
     "text": [
      "Reconstructed Images\n"
     ]
    },
    {
     "data": {
      "image/png": "[encoded data removed]",
      "text/plain": [
       "<matplotlib.figure.Figure at 0x26011de64a8>"
      ]
     },
     "metadata": {},
     "output_type": "display_data"
    },
    {
     "name": "stdout",
     "output_type": "stream",
     "text": [
      "Encodings\n"
     ]
    },
    {
     "data": {
      "image/png": "[encoded data removed]",
      "text/plain": [
       "<matplotlib.figure.Figure at 0x26011c645c0>"
      ]
     },
     "metadata": {},
     "output_type": "display_data"
    }
   ],
   "source": [
    "test_with_noise(6, 0.0)"
   ]
  },
  {
   "cell_type": "code",
   "execution_count": 71,
   "metadata": {},
   "outputs": [
    {
     "name": "stdout",
     "output_type": "stream",
     "text": [
      "Original Images\n"
     ]
    },
    {
     "data": {
      "image/png": "[encoded data removed]",
      "text/plain": [
       "<matplotlib.figure.Figure at 0x26011e47390>"
      ]
     },
     "metadata": {},
     "output_type": "display_data"
    },
    {
     "name": "stdout",
     "output_type": "stream",
     "text": [
      "Reconstructed Images\n"
     ]
    },
    {
     "data": {
      "image/png": "[encoded data removed]",
      "text/plain": [
       "<matplotlib.figure.Figure at 0x26011e22b00>"
      ]
     },
     "metadata": {},
     "output_type": "display_data"
    },
    {
     "name": "stdout",
     "output_type": "stream",
     "text": [
      "Encodings\n"
     ]
    },
    {
     "data": {
      "image/png": "[encoded data removed]",
      "text/plain": [
       "<matplotlib.figure.Figure at 0x26011e22828>"
      ]
     },
     "metadata": {},
     "output_type": "display_data"
    }
   ],
   "source": [
    "test_with_noise(6, .01)"
   ]
  },
  {
   "cell_type": "code",
   "execution_count": 72,
   "metadata": {
    "collapsed": true
   },
   "outputs": [],
   "source": [
    "sess.close()"
   ]
  }
 ],
 "metadata": {
  "kernelspec": {
   "display_name": "Python 3",
   "language": "python",
   "name": "python3"
  },
  "language_info": {
   "codemirror_mode": {
    "name": "ipython",
    "version": 3
   },
   "file_extension": ".py",
   "mimetype": "text/x-python",
   "name": "python",
   "nbconvert_exporter": "python",
   "pygments_lexer": "ipython3",
   "version": "3.6.1"
  }
 },
 "nbformat": 4,
 "nbformat_minor": 2
}
