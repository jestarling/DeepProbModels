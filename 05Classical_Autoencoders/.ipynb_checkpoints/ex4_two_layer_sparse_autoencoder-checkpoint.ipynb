{
 "cells": [
  {
   "cell_type": "code",
   "execution_count": 1,
   "metadata": {},
   "outputs": [
    {
     "name": "stdout",
     "output_type": "stream",
     "text": [
      "Extracting /tmp/data/train-images-idx3-ubyte.gz\n",
      "Extracting /tmp/data/train-labels-idx1-ubyte.gz\n",
      "Extracting /tmp/data/t10k-images-idx3-ubyte.gz\n",
      "Extracting /tmp/data/t10k-labels-idx1-ubyte.gz\n"
     ]
    }
   ],
   "source": [
    "# Import Libraries\n",
    "import tensorflow as tf\n",
    "import numpy as np\n",
    "import matplotlib.pyplot as plt\n",
    "\n",
    "# Load Example Data: MNIST\n",
    "from tensorflow.examples.tutorials.mnist import input_data\n",
    "mnist = input_data.read_data_sets(\"/tmp/data/\", one_hot=True)"
   ]
  },
  {
   "cell_type": "code",
   "execution_count": 2,
   "metadata": {},
   "outputs": [],
   "source": [
    "# Network Parameters\n",
    "num_input =  784 # MNIST images are 28px*28px\n",
    "num_hidden1 = 324 # Encoding variables\n",
    "num_hidden2 = 64 # Encoding variables\n",
    "\n",
    "# Training Parameters\n",
    "batch_size = 256 # MNIST images mut be loaded in batches\n",
    "learning_rate = 0.01\n",
    "num_steps = 100000\n",
    "\n",
    "# Printing parameters\n",
    "print_every = 10000\n",
    "\n",
    "# Data, we will load batches of images and store them here\n",
    "X = tf.placeholder(\"float\", [None, num_input])\n",
    "\n",
    "# Parameters of the model\n",
    "Weight1 = tf.Variable(tf.random_normal([num_input, num_hidden1]))\n",
    "Weight2 = tf.Variable(tf.random_normal([num_hidden1, num_hidden2]))\n",
    "bias1_encode = tf.Variable(tf.random_normal([num_hidden1]))\n",
    "bias2_encode = tf.Variable(tf.random_normal([num_hidden2]))\n",
    "bias2_decode = tf.Variable(tf.random_normal([num_hidden1]))\n",
    "bias1_decode = tf.Variable(tf.random_normal([num_input]))\n",
    "\n",
    "# Hash and predicting\n",
    "X_hash = tf.sigmoid(tf.add(tf.matmul(X, Weight1), bias1_encode))\n",
    "X_hashhash = tf.sigmoid(tf.add(tf.matmul(X_hash, Weight2), bias2_encode))\n",
    "X_hashhat = tf.sigmoid(tf.add(tf.matmul(X_hashhash, tf.transpose(Weight2)), bias2_decode))\n",
    "X_hat = tf.sigmoid(tf.add(tf.matmul(X_hashhat, tf.transpose(Weight1)), bias1_decode))\n",
    "\n",
    "# Define loss and optimizer\n",
    "l1_penalty_1 = 1e-7 * tf.reduce_sum(tf.abs(X_hash))\n",
    "l1_penalty_2 = 1e-6 * tf.reduce_sum(tf.abs(X_hashhash))\n",
    "loss = tf.reduce_mean(tf.pow(X - X_hat, 2)) + l1_penalty_1 + l1_penalty_2\n",
    "optimizer = tf.train.RMSPropOptimizer(learning_rate).minimize(loss)"
   ]
  },
  {
   "cell_type": "code",
   "execution_count": 3,
   "metadata": {
    "collapsed": true
   },
   "outputs": [],
   "source": [
    "# Initialize session\n",
    "init = tf.global_variables_initializer()\n",
    "sess = tf.Session()\n",
    "sess.run(init)"
   ]
  },
  {
   "cell_type": "code",
   "execution_count": 4,
   "metadata": {
    "scrolled": true
   },
   "outputs": [
    {
     "name": "stdout",
     "output_type": "stream",
     "text": [
      "Step 1: Batch Loss: 0.455451\n",
      "Step 10000: Batch Loss: 0.052923\n",
      "Step 20000: Batch Loss: 0.031739\n",
      "Step 30000: Batch Loss: 0.024753\n",
      "Step 40000: Batch Loss: 0.021604\n",
      "Step 50000: Batch Loss: 0.019102\n",
      "Step 60000: Batch Loss: 0.015100\n",
      "Step 70000: Batch Loss: 0.015095\n",
      "Step 80000: Batch Loss: 0.014813\n",
      "Step 90000: Batch Loss: 0.014239\n",
      "Step 100000: Batch Loss: 0.013669\n"
     ]
    }
   ],
   "source": [
    "# Training\n",
    "for i in range(1, num_steps + 1):\n",
    "    # Get the next batch of images\n",
    "    Xbatch, _ = mnist.train.next_batch(batch_size)   \n",
    "    # Run one pass of the optimizer\n",
    "    _, loss_out = sess.run([optimizer, loss], feed_dict={X: Xbatch})   \n",
    "    # Display logs per step\n",
    "    if i % print_every == 0 or i == 1:\n",
    "        print('Step %i: Batch Loss: %f' % (i, loss_out))"
   ]
  },
  {
   "cell_type": "code",
   "execution_count": 5,
   "metadata": {},
   "outputs": [],
   "source": [
    "def test_with_noise(n, noise):    \n",
    "    # MNIST test set with noise added\n",
    "    Xbatch, _ = mnist.test.next_batch(n)\n",
    "    Xbatch += np.random.normal(loc = 0.0, scale = noise, size = num_input) \n",
    "\n",
    "    # Encode and decode the digit image\n",
    "    Xbatch_hashhash, Xbatch_hash, Xbatch_hat = sess.run([X_hashhash, X_hash, X_hat], feed_dict={X: Xbatch})\n",
    "\n",
    "    # Create canvas for plotting\n",
    "    canvas_orig = np.empty((28, 28 * n))\n",
    "    canvas_recon = np.empty((28, 28 * n))\n",
    "    canvas_hash = np.empty((18, 18 * n))\n",
    "    canvas_hashhash = np.empty((8, 8 * n))\n",
    "    \n",
    "    # Display original images\n",
    "    for j in range(n):\n",
    "        # Original images\n",
    "        canvas_orig[:, (j * 28):((j + 1) * 28)] = Xbatch[j].reshape([28, 28])\n",
    "        # Reconstruction\n",
    "        canvas_recon[:, (j * 28):((j + 1) * 28)] = Xbatch_hat[j].reshape([28, 28])\n",
    "        # Hash codes\n",
    "        canvas_hash[:, (j * 18):((j + 1) * 18)] = Xbatch_hash[j].reshape([18, 18])\n",
    "        # Hash-hash codes\n",
    "        canvas_hashhash[:, (j * 8):((j + 1) * 8)] = Xbatch_hashhash[j].reshape([8, 8])\n",
    "    \n",
    "    print(\"Original Images\")\n",
    "    plt.imshow(canvas_orig, origin=\"upper\", cmap=\"gray\")\n",
    "    plt.show()\n",
    "    print(\"Reconstructed Images\")\n",
    "    plt.imshow(canvas_recon, origin=\"upper\", cmap=\"gray\")\n",
    "    plt.show()\n",
    "    print(\"Encodings level 1 with l1 penalty\")\n",
    "    plt.imshow(canvas_hash, origin=\"upper\", cmap=\"gray\")\n",
    "    plt.show()  \n",
    "    print(\"Encodings level 2 with l1 penalty\")\n",
    "    plt.imshow(canvas_hashhash, origin=\"upper\", cmap=\"gray\")\n",
    "    plt.show()   "
   ]
  },
  {
   "cell_type": "code",
   "execution_count": 6,
   "metadata": {},
   "outputs": [
    {
     "name": "stdout",
     "output_type": "stream",
     "text": [
      "Original Images\n"
     ]
    },
    {
     "data": {
      "image/png": "[encoded data removed]",
      "text/plain": [
       "<matplotlib.figure.Figure at 0x2463466a358>"
      ]
     },
     "metadata": {},
     "output_type": "display_data"
    },
    {
     "name": "stdout",
     "output_type": "stream",
     "text": [
      "Reconstructed Images\n"
     ]
    },
    {
     "data": {
      "image/png": "[encoded data removed]",
      "text/plain": [
       "<matplotlib.figure.Figure at 0x2463b190ef0>"
      ]
     },
     "metadata": {},
     "output_type": "display_data"
    },
    {
     "name": "stdout",
     "output_type": "stream",
     "text": [
      "Encodings level 1 with l1 penalty\n"
     ]
    },
    {
     "data": {
      "image/png": "[encoded data removed]",
      "text/plain": [
       "<matplotlib.figure.Figure at 0x2463bd6cda0>"
      ]
     },
     "metadata": {},
     "output_type": "display_data"
    },
    {
     "name": "stdout",
     "output_type": "stream",
     "text": [
      "Encodings level 2 with l1 penalty\n"
     ]
    },
    {
     "data": {
      "image/png": "[encoded data removed]",
      "text/plain": [
       "<matplotlib.figure.Figure at 0x2463bcfcdd8>"
      ]
     },
     "metadata": {},
     "output_type": "display_data"
    }
   ],
   "source": [
    "test_with_noise(6, 0.0)"
   ]
  },
  {
   "cell_type": "code",
   "execution_count": 7,
   "metadata": {},
   "outputs": [
    {
     "name": "stdout",
     "output_type": "stream",
     "text": [
      "Original Images\n"
     ]
    },
    {
     "data": {
      "image/png": "[encoded data removed]",
      "text/plain": [
       "<matplotlib.figure.Figure at 0x246333cb4a8>"
      ]
     },
     "metadata": {},
     "output_type": "display_data"
    },
    {
     "name": "stdout",
     "output_type": "stream",
     "text": [
      "Reconstructed Images\n"
     ]
    },
    {
     "data": {
      "image/png": "[encoded data removed]",
      "text/plain": [
       "<matplotlib.figure.Figure at 0x2463bd4b1d0>"
      ]
     },
     "metadata": {},
     "output_type": "display_data"
    },
    {
     "name": "stdout",
     "output_type": "stream",
     "text": [
      "Encodings level 1 with l1 penalty\n"
     ]
    },
    {
     "data": {
      "image/png": "[encoded data removed]",
      "text/plain": [
       "<matplotlib.figure.Figure at 0x2462bffb588>"
      ]
     },
     "metadata": {},
     "output_type": "display_data"
    },
    {
     "name": "stdout",
     "output_type": "stream",
     "text": [
      "Encodings level 2 with l1 penalty\n"
     ]
    },
    {
     "data": {
      "image/png": "[encoded data removed]",
      "text/plain": [
       "<matplotlib.figure.Figure at 0x2463be96710>"
      ]
     },
     "metadata": {},
     "output_type": "display_data"
    }
   ],
   "source": [
    "test_with_noise(6, 0.1)"
   ]
  },
  {
   "cell_type": "code",
   "execution_count": 8,
   "metadata": {
    "collapsed": true
   },
   "outputs": [],
   "source": [
    "sess.close()"
   ]
  }
 ],
 "metadata": {
  "kernelspec": {
   "display_name": "Python 3",
   "language": "python",
   "name": "python3"
  },
  "language_info": {
   "codemirror_mode": {
    "name": "ipython",
    "version": 3
   },
   "file_extension": ".py",
   "mimetype": "text/x-python",
   "name": "python",
   "nbconvert_exporter": "python",
   "pygments_lexer": "ipython3",
   "version": "3.6.1"
  }
 },
 "nbformat": 4,
 "nbformat_minor": 2
}
