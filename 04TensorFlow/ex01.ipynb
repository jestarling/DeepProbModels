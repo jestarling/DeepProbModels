{
 "cells": [
  {
   "cell_type": "markdown",
   "metadata": {},
   "source": [
    "# Basics of TensorFlow\n",
    "This is a starter for understanding the syntax of TensorFlow.\n",
    "\n",
    "First, let's import tensorflow."
   ]
  },
  {
   "cell_type": "code",
   "execution_count": 1,
   "metadata": {
    "collapsed": false
   },
   "outputs": [],
   "source": [
    "import tensorflow as tf"
   ]
  },
  {
   "cell_type": "markdown",
   "metadata": {},
   "source": [
    "## Operations in the TensorFlow Session\n",
    "TensorFlow works with the notion of a Session. When you code mathematical operations, you're really constructing a graph of computations that gets run later in a Session.\n",
    "\n",
    "For now, we'll be verbose, but later, we'll be able to use some of the nice built-in shortcuts. This is trying to build your understanding of what's going on \"under the hood\" to help you get used to it."
   ]
  },
  {
   "cell_type": "code",
   "execution_count": 2,
   "metadata": {
    "collapsed": false
   },
   "outputs": [
    {
     "data": {
      "text/plain": [
       "<tf.Tensor 'Add:0' shape=() dtype=int32>"
      ]
     },
     "execution_count": 2,
     "metadata": {},
     "output_type": "execute_result"
    }
   ],
   "source": [
    "# Here, we start with two constants and add them together.\n",
    "a = tf.constant(20)\n",
    "b = tf.constant(5)\n",
    "result = tf.add(a, b)\n",
    "result"
   ]
  },
  {
   "cell_type": "markdown",
   "metadata": {},
   "source": [
    "You'll note that the output of `result` isn't 25, but is instead an Operation. We've constructed the computation graph, but need to actually run it in a Session:"
   ]
  },
  {
   "cell_type": "code",
   "execution_count": 3,
   "metadata": {
    "collapsed": false
   },
   "outputs": [
    {
     "data": {
      "text/plain": [
       "25"
      ]
     },
     "execution_count": 3,
     "metadata": {},
     "output_type": "execute_result"
    }
   ],
   "source": [
    "sess = tf.Session()\n",
    "# This gives us the result we'd expect\n",
    "sess.run(result)"
   ]
  },
  {
   "cell_type": "markdown",
   "metadata": {},
   "source": [
    "## Beyond constants\n",
    "Being able to do math with constants is fun and all, but leaves a lot to be desired.\n",
    "\n",
    "First off, let's look at placeholders (and use some of the pretty TensorFlow syntax):"
   ]
  },
  {
   "cell_type": "code",
   "execution_count": 4,
   "metadata": {
    "collapsed": false
   },
   "outputs": [
    {
     "data": {
      "text/plain": [
       "14.0"
      ]
     },
     "execution_count": 4,
     "metadata": {},
     "output_type": "execute_result"
    }
   ],
   "source": [
    "x = tf.placeholder(tf.float64)\n",
    "y = x + 3\n",
    "z = y * 2\n",
    "sess.run(z, feed_dict={x: 4})"
   ]
  },
  {
   "cell_type": "markdown",
   "metadata": {},
   "source": [
    "## Broadcasting\n",
    "This should be a familar concept to NumPy users, but you can broadcast Tensors, which is one of the major strengths of TensorFlow (besides being able to run it on a GPU).\n",
    "\n",
    "As long as the operations make sense, you can easily apply a function element-wise. Other Tensors in the operation will be broadcast [See the rules here](https://docs.scipy.org/doc/numpy-1.13.0/user/basics.broadcasting.html), such as turning scalars into matrices, as in this example:"
   ]
  },
  {
   "cell_type": "code",
   "execution_count": 5,
   "metadata": {
    "collapsed": false
   },
   "outputs": [
    {
     "data": {
      "text/plain": [
       "array([[  8.,  10.],\n",
       "       [ 12.,  14.]])"
      ]
     },
     "execution_count": 5,
     "metadata": {},
     "output_type": "execute_result"
    }
   ],
   "source": [
    "sess.run(z, feed_dict={x: [[1, 2], [3, 4]]})"
   ]
  },
  {
   "cell_type": "markdown",
   "metadata": {},
   "source": [
    "## Overriding graph elements\n",
    "We can also override values in the graph:"
   ]
  },
  {
   "cell_type": "code",
   "execution_count": 6,
   "metadata": {
    "collapsed": false
   },
   "outputs": [
    {
     "data": {
      "text/plain": [
       "22.0"
      ]
     },
     "execution_count": 6,
     "metadata": {},
     "output_type": "execute_result"
    }
   ],
   "source": [
    "sess.run(z, feed_dict={x: 4, y: 11})"
   ]
  }
 ],
 "metadata": {
  "kernelspec": {
   "display_name": "Python 2",
   "language": "python",
   "name": "python2"
  },
  "language_info": {
   "codemirror_mode": {
    "name": "ipython",
    "version": 2
   },
   "file_extension": ".py",
   "mimetype": "text/x-python",
   "name": "python",
   "nbconvert_exporter": "python",
   "pygments_lexer": "ipython2",
   "version": "2.7.10"
  }
 },
 "nbformat": 4,
 "nbformat_minor": 1
}
