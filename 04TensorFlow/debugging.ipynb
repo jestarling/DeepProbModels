{
 "cells": [
  {
   "cell_type": "code",
   "execution_count": 24,
   "metadata": {
    "collapsed": true
   },
   "outputs": [],
   "source": [
    "import tensorflow as tf\n",
    "import numpy as np\n",
    "import matplotlib.pyplot as plt\n",
    "sess = tf.Session()"
   ]
  },
  {
   "cell_type": "markdown",
   "metadata": {},
   "source": [
    "# Debugging\n",
    "In normal code (in Python or otherwise), a pretty standard practice is to add conditionals in your code to look for certain behavior when something has gone awry. For example:"
   ]
  },
  {
   "cell_type": "code",
   "execution_count": 28,
   "metadata": {
    "collapsed": false
   },
   "outputs": [
    {
     "name": "stdout",
     "output_type": "stream",
     "text": [
      "[ nan  nan  nan  nan  nan  nan]\n"
     ]
    },
    {
     "name": "stderr",
     "output_type": "stream",
     "text": [
      "/usr/local/lib/python2.7/site-packages/ipykernel/__main__.py:3: RuntimeWarning: divide by zero encountered in divide\n",
      "  app.launch_new_instance()\n",
      "/usr/local/lib/python2.7/site-packages/ipykernel/__main__.py:6: RuntimeWarning: invalid value encountered in subtract\n"
     ]
    }
   ],
   "source": [
    "y = np.array([1, 0, 2, 3, 4, 5], dtype=np.float32)\n",
    "x = np.array([2, 1, 4, 6, 8, 10], dtype=np.float32)\n",
    "t = x / y\n",
    "m = np.mean(t)\n",
    "v = np.var(t)\n",
    "print((t - m) / np.sqrt(v))"
   ]
  },
  {
   "cell_type": "markdown",
   "metadata": {},
   "source": [
    "In the above, we're actually getting some reasonably helpful output from the iPython kernel. To debug this, we'd probably first start by adding some print statements, such as:"
   ]
  },
  {
   "cell_type": "code",
   "execution_count": 29,
   "metadata": {
    "collapsed": false
   },
   "outputs": [
    {
     "name": "stdout",
     "output_type": "stream",
     "text": [
      "True\n",
      "[False  True False False False False]\n"
     ]
    }
   ],
   "source": [
    "print(np.any(np.isinf(t) | np.isnan(t)))\n",
    "print(np.isinf(t) | np.isnan(t))"
   ]
  },
  {
   "cell_type": "markdown",
   "metadata": {},
   "source": [
    "which tells us that the second element of `t` is `nan` or `inf`. We can then print it:"
   ]
  },
  {
   "cell_type": "code",
   "execution_count": 30,
   "metadata": {
    "collapsed": false
   },
   "outputs": [
    {
     "name": "stdout",
     "output_type": "stream",
     "text": [
      "inf\n"
     ]
    }
   ],
   "source": [
    "print(t[1])"
   ]
  },
  {
   "cell_type": "markdown",
   "metadata": {},
   "source": [
    "Or to be more fancy:"
   ]
  },
  {
   "cell_type": "code",
   "execution_count": 31,
   "metadata": {
    "collapsed": false
   },
   "outputs": [
    {
     "name": "stdout",
     "output_type": "stream",
     "text": [
      "[ inf]\n"
     ]
    }
   ],
   "source": [
    "print(t[np.where(np.isinf(t) | np.isnan(t))])"
   ]
  },
  {
   "cell_type": "markdown",
   "metadata": {},
   "source": [
    "That is using several thing at once: for a condition on t (whether it is nan or inf), find all the indices where the condition is true, and print all the values of t where it is true."
   ]
  },
  {
   "cell_type": "markdown",
   "metadata": {},
   "source": [
    "# Debugging in TensorFlow\n",
    "\n",
    "Doing the same thing in TensorFlow is not as straightforward. In NumPy, we can print and exit in the middle of a program. In TensorFlow, we have to use the computation graph."
   ]
  },
  {
   "cell_type": "code",
   "execution_count": 34,
   "metadata": {
    "collapsed": false
   },
   "outputs": [],
   "source": [
    "x_tf = tf.constant(x)\n",
    "y_tf = tf.constant(y)\n",
    "t_tf = x_tf / y_tf\n",
    "m_tf = tf.reduce_mean(t_tf)\n",
    "v_tf = tf.reduce_mean((t_tf - m_tf) ** 2)\n",
    "final = (t_tf - m_tf) / tf.sqrt(v_tf)"
   ]
  },
  {
   "cell_type": "code",
   "execution_count": 36,
   "metadata": {
    "collapsed": false
   },
   "outputs": [
    {
     "name": "stdout",
     "output_type": "stream",
     "text": [
      "[ nan  nan  nan  nan  nan  nan]\n"
     ]
    }
   ],
   "source": [
    "print(sess.run(final))"
   ]
  },
  {
   "cell_type": "markdown",
   "metadata": {},
   "source": [
    "So now we want to go nan/inf hunting again in TensorFlow."
   ]
  },
  {
   "cell_type": "code",
   "execution_count": 41,
   "metadata": {
    "collapsed": false
   },
   "outputs": [
    {
     "name": "stdout",
     "output_type": "stream",
     "text": [
      "True\n",
      "[False  True False False False False]\n"
     ]
    }
   ],
   "source": [
    "print(sess.run(tf.reduce_any(tf.logical_or(tf.is_inf(t_tf), tf.is_nan(t_tf)))))\n",
    "print(sess.run(tf.logical_or(tf.is_inf(t_tf), tf.is_nan(t_tf))))\n",
    "# Or using the shorthand for tf.logical_or\n",
    "# print(sess.run(tf.is_inf(t_tf) | tf.is_nan(t_tf)))"
   ]
  },
  {
   "cell_type": "markdown",
   "metadata": {},
   "source": [
    "I can still print known elements of Tensors, but conditionals will be challenging mid-way through the computation graph."
   ]
  },
  {
   "cell_type": "code",
   "execution_count": 42,
   "metadata": {
    "collapsed": false
   },
   "outputs": [
    {
     "name": "stdout",
     "output_type": "stream",
     "text": [
      "inf\n"
     ]
    }
   ],
   "source": [
    "print(sess.run(t_tf[1]))"
   ]
  },
  {
   "cell_type": "markdown",
   "metadata": {},
   "source": [
    "What we did in NumPy is not strictly possible in TensorFlow (this will throw a lot of errors). However, we can still use things like `tf.cond` and `tf.where` along with any of the `tf.reduce_*` operations."
   ]
  },
  {
   "cell_type": "code",
   "execution_count": 57,
   "metadata": {
    "collapsed": true
   },
   "outputs": [],
   "source": [
    "# sess.run(t_tf[tf.where(tf.is_inf(t_tf) | tf.is_nan(t_tf))])"
   ]
  },
  {
   "cell_type": "code",
   "execution_count": 52,
   "metadata": {
    "collapsed": false
   },
   "outputs": [
    {
     "name": "stdout",
     "output_type": "stream",
     "text": [
      "[  2.   1.   4.   6.   8.  10.]\n"
     ]
    }
   ],
   "source": [
    "# If there are any bad elements of t, use x instead for future\n",
    "# computations.\n",
    "new_t = tf.cond(\n",
    "    tf.reduce_any(tf.is_inf(t_tf) | tf.is_nan(t_tf)),\n",
    "    lambda: x_tf,\n",
    "    lambda: t_tf)\n",
    "print(sess.run(new_t))"
   ]
  },
  {
   "cell_type": "code",
   "execution_count": 53,
   "metadata": {
    "collapsed": false
   },
   "outputs": [
    {
     "name": "stdout",
     "output_type": "stream",
     "text": [
      "[ 2.  1.  2.  2.  2.  2.]\n"
     ]
    }
   ],
   "source": [
    "# For any bad elements of t, use elements of x instead for future\n",
    "# computations.\n",
    "new_t = tf.where(\n",
    "    tf.is_inf(t_tf) | tf.is_nan(t_tf),\n",
    "    x_tf,\n",
    "    t_tf)\n",
    "print(sess.run(new_t))"
   ]
  },
  {
   "cell_type": "markdown",
   "metadata": {},
   "source": [
    "We can even add printing in the graph if we don't mind risking having big log files as we debug (this operation logs to standard error, which doesn't appeart to show up in Jupyter):"
   ]
  },
  {
   "cell_type": "code",
   "execution_count": 56,
   "metadata": {
    "collapsed": false
   },
   "outputs": [
    {
     "name": "stdout",
     "output_type": "stream",
     "text": [
      "[  2.   1.   4.   6.   8.  10.]\n"
     ]
    }
   ],
   "source": [
    "new_t = tf.cond(\n",
    "    tf.reduce_any(tf.is_inf(t_tf) | tf.is_nan(t_tf)),\n",
    "    lambda: tf.Print(x_tf,\n",
    "                     [x_tf, y_tf, t_tf, m_tf, v_tf],\n",
    "                     \"return x_tf, but have side effect of printing x,y,t,m,v: \",\n",
    "                     # Print up to 100 elements of each tensor in the list\n",
    "                     summarize=100),\n",
    "    lambda: t_tf\n",
    ")\n",
    "# Prints:\n",
    "# I tensorflow/core/kernels/logging_ops.cc:79] \\\n",
    "# return x_tf, but have side effect of printing x,y,t,m,v: \\\n",
    "# [2 1 4 6 8 10][1 0 2 3 4 5][2 inf 2 2 2 2][inf][nan]\n",
    "print(sess.run(new_t))"
   ]
  },
  {
   "cell_type": "code",
   "execution_count": 58,
   "metadata": {
    "collapsed": false
   },
   "outputs": [
    {
     "name": "stdout",
     "output_type": "stream",
     "text": [
      "hello\n"
     ]
    }
   ],
   "source": [
    "print(sess.run(tf.constant('hello')))"
   ]
  }
 ],
 "metadata": {
  "kernelspec": {
   "display_name": "Python 2",
   "language": "python",
   "name": "python2"
  },
  "language_info": {
   "codemirror_mode": {
    "name": "ipython",
    "version": 2
   },
   "file_extension": ".py",
   "mimetype": "text/x-python",
   "name": "python",
   "nbconvert_exporter": "python",
   "pygments_lexer": "ipython2",
   "version": "2.7.10"
  }
 },
 "nbformat": 4,
 "nbformat_minor": 1
}
